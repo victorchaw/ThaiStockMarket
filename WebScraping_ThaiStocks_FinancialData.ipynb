{
 "cells": [
  {
   "cell_type": "code",
   "execution_count": 1,
   "metadata": {},
   "outputs": [],
   "source": [
    "from selenium import webdriver\n",
    "from selenium.webdriver.support import expected_conditions as EC\n",
    "import pandas as pd"
   ]
  },
  {
   "cell_type": "markdown",
   "metadata": {},
   "source": [
    "## Get data"
   ]
  },
  {
   "cell_type": "code",
   "execution_count": 2,
   "metadata": {},
   "outputs": [
    {
     "name": "stderr",
     "output_type": "stream",
     "text": [
      "/var/folders/6l/gsr78pf13cbcvrmmk3frwpvm0000gp/T/ipykernel_10099/2624277901.py:15: FutureWarning: Passing literal html to 'read_html' is deprecated and will be removed in a future version. To read from a literal string, wrap it in a 'StringIO' object.\n",
      "  dl = pd.read_html(driver.page_source)\n"
     ]
    }
   ],
   "source": [
    "stock_name = input(\"Enter stock name: \")\n",
    "\n",
    "options = webdriver.EdgeOptions()\n",
    "options.use_chromium = True \n",
    "options.headless = True\n",
    "\n",
    "driver = webdriver.Edge(options=options)\n",
    "\n",
    "driver.get(\"https://www.set.or.th/en/market/product/stock/quote/\" + stock_name + \"/factsheet\")\n",
    "\n",
    "dl = pd.read_html(driver.page_source)\n",
    "\n",
    "driver.quit()"
   ]
  },
  {
   "cell_type": "markdown",
   "metadata": {},
   "source": [
    "## Convert to numeric"
   ]
  },
  {
   "cell_type": "code",
   "execution_count": 3,
   "metadata": {},
   "outputs": [
    {
     "name": "stdout",
     "output_type": "stream",
     "text": [
      "float64\n",
      "0       729.80\n",
      "1      2626.96\n",
      "2      2647.45\n",
      "3      6148.29\n",
      "4     12330.18\n",
      "5     13786.35\n",
      "6     19934.64\n",
      "7      3302.53\n",
      "8      1939.42\n",
      "9      2743.22\n",
      "10     8187.72\n",
      "11     1570.91\n",
      "12     9758.63\n",
      "13     1000.00\n",
      "14     1000.00\n",
      "15     3962.98\n",
      "16     5657.63\n",
      "17         NaN\n",
      "18         NaN\n",
      "19     -338.68\n",
      "20     -221.01\n",
      "21    10281.93\n",
      "22     -105.92\n",
      "Name: (9M/2022 30 Sep 2022, Consolidate), dtype: float64\n",
      "[  729.8   2626.96  2647.45  6148.29 12330.18 13786.35 19934.64  3302.53\n",
      "  1939.42  2743.22  8187.72  1570.91  9758.63  1000.    3962.98  5657.63\n",
      "      nan  -338.68  -221.01 10281.93  -105.92]\n"
     ]
    }
   ],
   "source": [
    "import numpy as np\n",
    "\n",
    "newdf = dl.copy()\n",
    "\n",
    "def try_numeric_conversion(value):\n",
    "    if value == '-':\n",
    "        return np.nan \n",
    "    try:\n",
    "        return pd.to_numeric(value)\n",
    "    except ValueError:\n",
    "        return value\n",
    "\n",
    "for df_index in range(len(dl)):\n",
    "    for column in dl[df_index].columns:\n",
    "        newdf[df_index][column] = dl[df_index][column].apply(try_numeric_conversion)\n",
    "\n",
    "# Validate the conversions\n",
    "print(newdf[6].iloc[:, 4].dtypes)\n",
    "print(newdf[6].iloc[:, 4])\n",
    "print(newdf[6].iloc[:, 4].unique())\n"
   ]
  },
  {
   "cell_type": "markdown",
   "metadata": {},
   "source": [
    "## Export to excel"
   ]
  },
  {
   "cell_type": "code",
   "execution_count": 4,
   "metadata": {},
   "outputs": [],
   "source": [
    "start = 6\n",
    "name = ['Financial_Position', 'Comprehensive_Income', \n",
    "        'Cash_Flow', 'Ratios', 'Growth_Rate', 'Cash_Cycle']\n",
    "count_name = 0\n",
    "for d in range(start, 11):\n",
    "    # print(f'Index: {d}, Data:\\n{dl[d]}')\n",
    "#     dl[d].to_excel(f'{stock_name}_{name[count_name]}.xlsx', sheet_name=name[count_name])\n",
    "    dl[d].to_csv(f'{stock_name}_{name[count_name]}.csv', index=False)\n",
    "    count_name+=1\n"
   ]
  },
  {
   "cell_type": "markdown",
   "metadata": {},
   "source": [
    "## "
   ]
  }
 ],
 "metadata": {
  "kernelspec": {
   "display_name": "base",
   "language": "python",
   "name": "python3"
  },
  "language_info": {
   "codemirror_mode": {
    "name": "ipython",
    "version": 3
   },
   "file_extension": ".py",
   "mimetype": "text/x-python",
   "name": "python",
   "nbconvert_exporter": "python",
   "pygments_lexer": "ipython3",
   "version": "3.11.5"
  }
 },
 "nbformat": 4,
 "nbformat_minor": 2
}
